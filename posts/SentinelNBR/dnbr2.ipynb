{
 "cells": [
  {
   "cell_type": "markdown",
   "metadata": {},
   "source": [
    "# Burn Severity  with Sentinel-2 data using Google Earth Engine\n",
    "In this Jupyter Notebook, we first visualize true color images of the August Complex fire before and after it burned. Bands from the Sentinel 2 satellites as well as a dataset from USFS with wildfire boundaries are used for our analysis. Then, the Normalized Burn Ratio (NBR) is used to analyze burn severity, which is a measure of the degree to which a fire has affected the ecosystem. To compare these two images, we will compute the normalized difference to show where burn severity most significantly affected the vegetation and soil. We then added a scale to the normalized difference to show the levels of burn severity from the August Complex fire. Finally, we visualized the levels of severity to show the overall intensity. This link provides more information on the Sentinel 2 dataset that was used: https://developers.google.com/earth-engine/datasets/catalog/COPERNICUS_S2.\n",
    "\n",
    "### Authors\n",
    "- Guillermo Romero, Bren School of Environmental Science & Management, UCSB (romero61@ucsb.edu)\n",
    "- Wade Sedgewick, Bren School of Environmental Science & Management, UCSB (wsedgwick@ucsb.edu)\n",
    "- Hailey Veirs, Bren School of Environmental Science & Management, UCSB (hveirs@ucsb.edu)\n",
    "\n",
    "### Table of Contents\n",
    "\n",
    "1. [Purpose](#Purpose)\n",
    "2. [Dataset Description](#Dataset_Description)\n",
    "3. [Data I/O](#Data_I/O)\n",
    "4. [Metadata Display](#Metadata_Display)\n",
    "5. [True Color Visualization](#True_Color_Visualization)\n",
    "6. [Use Case Examples](#Use_Case_Examples)\n",
    "7. [Use Case Discussion](#Use_Case_Discussion)\n",
    "8. [References](#References)\n",
    "\n",
    "\n",
    "# Notebook Purpose\n",
    "Wildfires in California are becoming increasingly straining on the environment as well as the millions of people living in the state. As the world struggles to deal with climate change and droughts in the West, California must be proactive at addressing this threat. This notebook aims at visualizing the severity of the August Complex fire, the largest wildfire by area in California’s history. This fire began on August 16th and wasn’t contained until November 12th. California’s 7 biggest wildfires have all occurred in the past 5 years as California becomes a more draught-prone state, which means that this problem will only get worse. The wildfire started from multiple lightning strikes that resulted in 13 separate fires, and over the following week, they quickly joined to form the August Fire, which lasted just under three months.\n",
    "\n",
    "To visualize the severity of the August Complex fire, we will do an analysis of the difference Normalized Burn Ratio (dNBR). Sentinel 2, the satellites used for Europe’s Earth observation program, will be used to conduct this analysis. The dNBR is an analysis on quantifying the damage that the fire had on the ecosystem. The NBR before and after the fires is first calculated. We use these images to calculate the dNBR, which shows the difference in burn severity. With Sentinel’s Visible and Near Infrared (VNIR) and Shortwave Infrared (SWIR) bands at 20 meter resolution, we are able to visualize the severity of the largest wildlife in California. Lastly, we display the proportion of level of severity, showing how detrimental it was to the environment.\n",
    "\n",
    "\n",
    "# Dataset Description\n",
    "**Sentinel 2**\n",
    "\n",
    "The dataset we will be using is the Sentinel 2 which was collected and distributed by Copernicus, Europe’s Earth observation program. Sentinel 2 uses two separate satellites for increased temporal resolution. These satellites focus on terrestrial monitoring, whereas Sentinel 1 aims at capturing imagery of both marine and terrestrial areas. The Sentinel 2 satellites focus on monitoring coasts, vegetation and soil.\n",
    "\n",
    "**Resolution**\n",
    "\n",
    "The Sentinel 2 satellites collect 13 separate bands. Sentinel 2A was launched June, 2015 and Sentinel 2B was launched March, 2017. Because the Sentinel 2 program comprises of two satellites that rotate the earth every 10 days, an entire cycle is completed in only five days. This increased temporal resolution is more than three times higher than Landsat 8. This is due to the focus on land and near-shore monitoring. The Sentinel satellites collect 13 separate bands: the visible bands have a resolution of 10 meters, five 20 meter and one 10 meter Visible and Near Infrared bands, two 60 meter and two 20-meter Shortwave Infrared bands, and one 60 meter Ultra Blue band (for coastal sediment and aerosols). We will be using a 20-meter NIR band as well as a 20-meter SWIR band for our dNBR analysis. \n",
    "\n",
    "**File Format & Data Retrieval**\n",
    "\n",
    "The data format for Sentinel 2 are ImageCollections, which are a collection of all images as individual bands taken by Sentinel 2A and 2B over their lifetimes. For our analysis, we used Google Earth Engine.\n",
    "\n",
    "**Limitations** \n",
    "\n",
    "The Sentinel 2 satellites have been in orbit for five and seven years, providing highly temporal and decently spatial resolution. However, there are some limitations in using the data. The most prominent is cloud coverage, which affects how much of the earth a satellite can record. Although trends can show where cloud coverage might be more difficult to work around, the randomness and frequency of clouds interfering with imagery collection can mean that researchers do not have access to satellite imagery at a certain date. Additionally, although 10 meters is an improvement to the 30-meter Landsat visible bands, this is still not at a resolution for spatially detailed analysis such as individual tree identification. \n",
    "\n",
    "**MTBS Polygon Data**\n",
    "\n",
    "We will also use the US Forest Service's Monitoring Trends in Burned Severity (MTBS) shapefiles with the Sentinel data. The data is made of shapefiles with several other saved variables such as the acerage of burned area, latitude longitude, ignition date, and dNBR values over certain thresholds. These shapefiles are delineated from Landsat imagery and burn severity index data at a map scale of 1:24,000 to 1:50,000. Additionally, all vector data is in Albers Equal Area projection. \n",
    "\n",
    "For this notebook, we will be using the polygon geometry to help subset our Sentinel data to the burned area. Although the MTBS vector data includes high to low burn severity threshold data, it only includes the value that each threshold was determined as, not the area values that correspond to each threshold. Luckily, we can still use the vector data in our case example. \n",
    "\n",
    "\n",
    "# Data Input/Output\n",
    "\n",
    "First, import the packages we need."
   ]
  },
  {
   "cell_type": "code",
   "execution_count": 19,
   "metadata": {},
   "outputs": [],
   "source": [
    "#1) Import all necessary packages\n",
    "import pandas as pd\n",
    "import numpy as np\n",
    "import matplotlib.pyplot as plt\n",
    "import datetime\n",
    "import ee\n",
    "import geemap"
   ]
  },
  {
   "cell_type": "code",
   "execution_count": 20,
   "metadata": {},
   "outputs": [],
   "source": [
    "#ee.Authenticate()"
   ]
  },
  {
   "cell_type": "code",
   "execution_count": 21,
   "metadata": {},
   "outputs": [],
   "source": [
    "ee.Initialize()"
   ]
  },
  {
   "cell_type": "code",
   "execution_count": 22,
   "metadata": {},
   "outputs": [],
   "source": [
    "# Loading Sentinel-2 MSI: MultiSpectral Instrument, Level-1C\n",
    "imagery = ee.ImageCollection('COPERNICUS/S2')\n",
    "#Loading Monitoring Trends in Burn Severity (MTBS) Feature Collection Dataset\n",
    "MTBS = ee.FeatureCollection(\"USFS/GTAC/MTBS/burned_area_boundaries/v1\")"
   ]
  },
  {
   "cell_type": "code",
   "execution_count": 23,
   "metadata": {},
   "outputs": [
    {
     "data": {
      "application/vnd.jupyter.widget-view+json": {
       "model_id": "5dfc8e3e77e348c5af7fc206737be932",
       "version_major": 2,
       "version_minor": 0
      },
      "text/plain": [
       "Map(center=[39.9, -109], controls=(WidgetControl(options=['position', 'transparent_bg'], widget=HBox(children=…"
      ]
     },
     "execution_count": 23,
     "metadata": {},
     "output_type": "execute_result"
    }
   ],
   "source": [
    "Map = geemap.Map(center=[39.9, -109], zoom=6.49)\n",
    "Map"
   ]
  },
  {
   "cell_type": "code",
   "execution_count": 24,
   "metadata": {},
   "outputs": [],
   "source": [
    "Map.addLayer(MTBS, {}, 'Boundaries')"
   ]
  },
  {
   "cell_type": "markdown",
   "metadata": {},
   "source": [
    "# Metadata Display"
   ]
  },
  {
   "cell_type": "code",
   "execution_count": 25,
   "metadata": {
    "jupyter": {
     "outputs_hidden": true
    },
    "tags": []
   },
   "outputs": [],
   "source": [
    "# Show the metadata of the Sentinel raster data.\n",
    "#testimg = imagery.first()\n",
    "#testimg.getInfo()"
   ]
  },
  {
   "cell_type": "code",
   "execution_count": 26,
   "metadata": {
    "jupyter": {
     "outputs_hidden": true
    },
    "tags": []
   },
   "outputs": [],
   "source": [
    "# Show the metadata of the MTBS vector data.\n",
    "#shape = MTBS.first()\n",
    "#shape.getInfo()\n",
    "#MTBS.limit(1).getInfo()"
   ]
  },
  {
   "cell_type": "code",
   "execution_count": 27,
   "metadata": {},
   "outputs": [],
   "source": [
    "# Below is an additional way to subset data using a Feature Collection:\n",
    "# Needs to be seperated into different code blocks to run\n",
    "#counties = ee.FeatureCollection(\"TIGER/2018/Counties\")\n",
    "#Map.addLayer(counties, {}, 'US Counties')\n",
    "##### DRAW POLYGON TO SELECT COUNTIES! ####\n",
    "#Map.draw_features\n",
    "#roi = ee.FeatureCollection(Map.draw_features)\n",
    "#selected_counties = counties.filterBounds(roi)\n",
    "#Map.addLayer(selected_counties, {}, \"Selected Counties\")\n",
    "#Map.centerObject(selected_counties, zoom = 8);\n",
    "#august_complex = MTBS.filterBounds(roi)\n",
    "#Map.addLayer(august_complex, {}, \"August Complex Boundary\")\n",
    "#Map.centerObject(august_complex, zoom = 8);\n",
    "#Map.remove_last_drawn()\n",
    "\n",
    "#Map.remove_ee_layer('US Counties')\n",
    "#Map.remove_ee_layer('August Complex Boundary')\n",
    "#c_polygon = selected_counties.geometry().geometries().filter(ee.Filter.hasType('item','Polygon')); \n",
    "#geometry = ee.Geometry.MultiPolygon(c_polygon)                     \n",
    "#geometry = ee.FeatureCollection(geometry)  \n",
    "#geemap.ee_to_shp(geometry, filename='../downloads/selected_counties.shp')"
   ]
  },
  {
   "cell_type": "markdown",
   "metadata": {},
   "source": [
    "# True Color Visualization\n",
    "\n",
    "Start off by making a true color image of our use case example. This will show how the Sentinel data looks, as well as how we filter it to based on the MTBS shapefile."
   ]
  },
  {
   "cell_type": "code",
   "execution_count": 28,
   "metadata": {
    "tags": []
   },
   "outputs": [],
   "source": [
    "aug_complex = MTBS.filter(ee.Filter.eq('Incid_Name', 'AUGUST COMPLEX'));"
   ]
  },
  {
   "cell_type": "code",
   "execution_count": 29,
   "metadata": {
    "jupyter": {
     "outputs_hidden": true
    },
    "tags": []
   },
   "outputs": [],
   "source": [
    "#august_complex.getInfo()\n",
    "#aug_complex.getInfo()\n",
    "#BurnBndAc\tINT\t Burn boundary acreage  1068802"
   ]
  },
  {
   "cell_type": "code",
   "execution_count": 30,
   "metadata": {},
   "outputs": [
    {
     "data": {
      "application/vnd.jupyter.widget-view+json": {
       "model_id": "9329d5010708443a9645b6b18461e16f",
       "version_major": 2,
       "version_minor": 0
      },
      "text/plain": [
       "Map(center=[39.9, -122.9], controls=(WidgetControl(options=['position', 'transparent_bg'], widget=HBox(childre…"
      ]
     },
     "execution_count": 30,
     "metadata": {},
     "output_type": "execute_result"
    }
   ],
   "source": [
    "MapB = geemap.Map(center=[39.9, -122.9], zoom=8.7)\n",
    "MapB"
   ]
  },
  {
   "cell_type": "code",
   "execution_count": 31,
   "metadata": {},
   "outputs": [],
   "source": [
    "MapB.addLayer(aug_complex, {}, \"August Complex Boundary\")\n",
    "#Map.centerObject(selected_counties, zoom = 9);\n",
    "#Map.remove_ee_layer('Boundaries')"
   ]
  },
  {
   "cell_type": "markdown",
   "metadata": {},
   "source": [
    "The code below is outlining and saving time frames before the start of the fire and after the end of the fire. We chose to do ~15 day timeframes because the Sentinel satellite images are taken approximately every 5 days. The ~15 day timeframe means that we will hopefully have 2-3 images to use in our analysis."
   ]
  },
  {
   "cell_type": "code",
   "execution_count": 32,
   "metadata": {},
   "outputs": [],
   "source": [
    "# Start of fire August 16\n",
    "# End of fire November 12\n",
    "prefire_start = '2020-07-15';   \n",
    "prefire_end = '2020-07-30';\n",
    "\n",
    "\n",
    "postfire_start = '2020-11-13';\n",
    "postfire_end = '2020-11-30';\n",
    "# Load the Sentinel data\n",
    "imagery = ee.ImageCollection('COPERNICUS/S2')\n",
    "\n",
    "# Filter the Image collection based on the timeframes. \n",
    "# Filter the cells to the MTBS polygon.\n",
    "prefireImCol = ee.ImageCollection(imagery.filterDate(prefire_start, prefire_end).filterBounds(aug_complex));\n",
    "postfireImCol = ee.ImageCollection(imagery.filterDate(postfire_start, postfire_end).filterBounds(aug_complex));"
   ]
  },
  {
   "cell_type": "code",
   "execution_count": 33,
   "metadata": {},
   "outputs": [],
   "source": [
    "# Function to mask clouds from the pixel quality band of Sentinel-2 SR data.\n",
    "def  maskS2sr(image):\n",
    "  # Bits 10 and 11 are clouds and cirrus, respectively.\n",
    "    cloudBitMask = ee.Number(2).pow(10).int();\n",
    "    cirrusBitMask = ee.Number(2).pow(11).int();\n",
    "  #Get the pixel QA band.\n",
    "    qa = image.select('QA60');\n",
    "  #All flags should be set to zero, indicating clear conditions.\n",
    "    mask = qa.bitwiseAnd(cloudBitMask).eq(0).bitwiseAnd(cirrusBitMask).eq(0);\n",
    "  #Return the masked image, scaled to TOA reflectance, without the QA bands.\n",
    "    return image.updateMask(mask).copyProperties(image, [\"system:time_start\"]);"
   ]
  },
  {
   "cell_type": "code",
   "execution_count": 34,
   "metadata": {},
   "outputs": [],
   "source": [
    "# Apply platform-specific cloud mask\n",
    "prefire_CM_ImCol = prefireImCol.map(maskS2sr);\n",
    "postfire_CM_ImCol = postfireImCol.map(maskS2sr);"
   ]
  },
  {
   "cell_type": "markdown",
   "metadata": {},
   "source": [
    "The code below creates a mosaic of images if our polygon includes the boundaries between images. It creates and saves one continuous image instead of multiple images. "
   ]
  },
  {
   "cell_type": "code",
   "execution_count": 35,
   "metadata": {},
   "outputs": [],
   "source": [
    "# If multiple images in area creates mosaic and clips otherwise only clips\n",
    "# Without CLoud Mask\n",
    "\n",
    "pre_mos = prefireImCol.mosaic().clip(aug_complex);\n",
    "post_mos = postfireImCol.mosaic().clip(aug_complex);\n",
    "# With Cloud Mask\n",
    "pre_cm_mos = prefire_CM_ImCol.mosaic().clip(aug_complex);\n",
    "post_cm_mos = postfire_CM_ImCol.mosaic().clip(aug_complex);"
   ]
  },
  {
   "cell_type": "markdown",
   "metadata": {},
   "source": [
    "Set up parameters for true color images using band 2, 3, and 4 from the Sentinel satellites, and adding non-cloud masked pre-fire and post-fire images and cloud masked pre-fire and post-fire images"
   ]
  },
  {
   "cell_type": "code",
   "execution_count": 36,
   "metadata": {},
   "outputs": [],
   "source": [
    "#visualization parameters for true color images\n",
    "vis = {'bands': ['B4', 'B3', 'B2'], 'max': 2000, 'gamma': 1.5};\n",
    "MapT = geemap.Map(center=[39.9, -109], zoom=6.49)\n",
    "\n",
    "# Add the true color images to the map.\n",
    "MapT.addLayer(pre_mos, vis,'Pre-fire image');\n",
    "MapT.addLayer(post_mos, vis,'Post-fire image');"
   ]
  },
  {
   "cell_type": "code",
   "execution_count": 37,
   "metadata": {},
   "outputs": [],
   "source": [
    "#Add the true color images to the map.\n",
    "MapT.addLayer(pre_cm_mos, vis,'Pre-fire True Color Image - Clouds masked');\n",
    "MapT.addLayer(post_cm_mos, vis,'Post-fire True Color Image - Clouds masked');\n"
   ]
  },
  {
   "cell_type": "markdown",
   "metadata": {},
   "source": [
    "<a id='usecases'></a> \n",
    "# Use Case Example \n",
    "\n",
    "For our use case, we wanted to use Sentinel data to understand how severe the August Complex fire was in 2020. We will use the Sentinel data to calculate the NBR and dNBR of the fire. It lasted from August 16th to November 12th, and it burned over a million acres accross multiple national parks - largely in the Mendocino National Forest. \n",
    " \n",
    "\n",
    "## NBRs in greyscale\n",
    "\n",
    "\n",
    "The Normalized Burn Ratio (NBR) is the ratio between NIR and SWIR, as shown by the equation below:\n",
    "\n",
    " \n",
    "\n",
    "![image.png](attachment:2c76254c-5c31-4df0-a9f5-f1df9f2d5a42.png)\n",
    "\n",
    "\n",
    "The Normalized Burn Ratio (NBR) is used to highlight burned areas and estimate burn severity, using near-infrared (NIR) and shortwave-infrared (SWIR) wavelengths.  Healthy vegetation has very high NIR reflectance and low SWIR. Recently burned areas have a low NIR reflectance and high SWIR reflectance.\n",
    "\n",
    "The spectral response curves of healthy vegetation versus burned vegetation is shown below. Since the two reach peak differences in the NIR and SWIR wavelengths, we can calculate the ratio of this difference to focus on where the August Complex fire burned.\n",
    "\n",
    "![image.png](attachment:374d069c-0207-4bf7-89ab-e2de1f4126ee.png)\n",
    "\n",
    "\n",
    "Preparing pre-fire and post-fire Normalized Burn Ratio (NBR) images:"
   ]
  },
  {
   "cell_type": "code",
   "execution_count": 60,
   "metadata": {},
   "outputs": [],
   "source": [
    "preNBR = pre_cm_mos.normalizedDifference(['B8', 'B12']);\n",
    "postNBR = post_cm_mos.normalizedDifference(['B8', 'B12']);"
   ]
  },
  {
   "cell_type": "markdown",
   "metadata": {},
   "source": [
    "## Creating an interactive map of pre-fire and post-fire NBRs"
   ]
  },
  {
   "cell_type": "code",
   "execution_count": 62,
   "metadata": {},
   "outputs": [
    {
     "data": {
      "application/vnd.jupyter.widget-view+json": {
       "model_id": "a7b6dfe9107c42c4837597e8aa899df0",
       "version_major": 2,
       "version_minor": 0
      },
      "text/plain": [
       "Map(center=[39.9, -122.9], controls=(ZoomControl(options=['position', 'zoom_in_text', 'zoom_in_title', 'zoom_o…"
      ]
     },
     "execution_count": 62,
     "metadata": {},
     "output_type": "execute_result"
    }
   ],
   "source": [
    "#Burn Ratio Product - Greyscale\n",
    "grey = ['white', 'black'];\n",
    "left_layer = geemap.ee_tile_layer(preNBR, {'min': -1, 'max': 1, 'palette': grey}, 'Prefire Normalized Burn Ratio')\n",
    "right_layer = geemap.ee_tile_layer(postNBR, {'min': -1, 'max': 1, 'palette': grey}, 'Postfire Normalized Burn Ratio')\n",
    "\n",
    "Maps =  geemap.Map(center=[39.9, -122.9], zoom=8.7)\n",
    "\n",
    "Maps.split_map(left_layer, right_layer)\n",
    "Maps"
   ]
  },
  {
   "cell_type": "markdown",
   "metadata": {},
   "source": [
    "## Adding Burn Severity map with levels of severity\n",
    "\n",
    "![image.png](attachment:f20af77e-0ec1-491f-bf7b-6b16b1a46353.png)\n",
    "\n",
    "A higher value of dNBR indicates more severe damage, while areas with negative dNBR values may indicate regrowth following a fire.\n",
    "\n",
    "Table 1. Burn severity levels obtained calculating dNBR, proposed by USGS.\n",
    "![image.png](attachment:6a661807-900d-4567-a5ba-bf162e0f5414.png)"
   ]
  },
  {
   "cell_type": "code",
   "execution_count": 40,
   "metadata": {},
   "outputs": [],
   "source": [
    "dNBR_unscaled = preNBR.subtract(postNBR);\n",
    "\n",
    "#Scale product to USGS standards\n",
    "dNBR = dNBR_unscaled.multiply(1000);"
   ]
  },
  {
   "cell_type": "code",
   "execution_count": 41,
   "metadata": {},
   "outputs": [],
   "source": [
    "Map2 = geemap.Map(center=[39.9, -122.9], zoom=8.7)\n",
    "Map2\n",
    "Map2.add_basemap('SATELLITE')\n"
   ]
  },
  {
   "cell_type": "code",
   "execution_count": 42,
   "metadata": {},
   "outputs": [],
   "source": [
    "# dNBR greyscale\n",
    "Map2.addLayer(dNBR, {'min': -1000, 'max': 1000, 'palette': grey}, 'dNBR greyscale');"
   ]
  },
  {
   "cell_type": "code",
   "execution_count": 43,
   "metadata": {},
   "outputs": [],
   "source": [
    "#Define an SLD style of discrete intervals to apply to the image.\n",
    "sld_intervals = '<RasterSymbolizer>' + '<ColorMap type=\"intervals\" extended=\"false\" >' + '<ColorMapEntry color=\"#ffffff\" quantity=\"-500\" label=\"-500\"/>' + '<ColorMapEntry color=\"#7a8737\" quantity=\"-250\" label=\"-250\" />' + '<ColorMapEntry color=\"#acbe4d\" quantity=\"-100\" label=\"-100\" />' + '<ColorMapEntry color=\"#0ae042\" quantity=\"100\" label=\"100\" />' + '<ColorMapEntry color=\"#fff70b\" quantity=\"270\" label=\"270\" />' + '<ColorMapEntry color=\"#ffaf38\" quantity=\"440\" label=\"440\" />' + '<ColorMapEntry color=\"#ff641b\" quantity=\"660\" label=\"660\" />' + '<ColorMapEntry color=\"#a41fd6\" quantity=\"2000\" label=\"2000\" />' + '</ColorMap>' + '</RasterSymbolizer>';"
   ]
  },
  {
   "cell_type": "code",
   "execution_count": 44,
   "metadata": {},
   "outputs": [],
   "source": [
    "Map2.addLayer(dNBR.sldStyle(sld_intervals), {}, 'dNBR classified');\n",
    "#==========================================================================================\n",
    "#                                   ADD A LEGEND\n",
    "\n",
    "legend_dict = {\n",
    "    \"Enhanced Regrowth, High\": '7a8737',\n",
    "    'Enhanced Regrowth, Low':  'acbe4d',\n",
    "    'Unburned': '0ae042',\n",
    "    'Low Severity': 'fff70b',\n",
    "    'Moderate-low Severity': 'ffaf38',\n",
    "    'Moderate-high Severity': 'ff641b',\n",
    "    'High Severity': 'a41fd6',\n",
    "    'NA': 'ffffff'}\n",
    "\n",
    "\n",
    "Map2.add_legend(legend_title = \"dNBR Classes\", legend_dict = legend_dict)"
   ]
  },
  {
   "cell_type": "code",
   "execution_count": 45,
   "metadata": {},
   "outputs": [],
   "source": [
    " ## Derive extent of burn severity classes"
   ]
  },
  {
   "cell_type": "code",
   "execution_count": 46,
   "metadata": {
    "tags": []
   },
   "outputs": [],
   "source": [
    "thresholds = ee.Image([-1000, -251, -101, 99, 269, 439, 659, 2000]);\n",
    "classified = dNBR.lt(thresholds).reduce('sum').toInt();"
   ]
  },
  {
   "cell_type": "code",
   "execution_count": 47,
   "metadata": {
    "tags": []
   },
   "outputs": [],
   "source": [
    "#count number of pixels in entire layer\n",
    "allpix =  classified.updateMask(classified); #mask the entire layer"
   ]
  },
  {
   "cell_type": "code",
   "execution_count": 48,
   "metadata": {
    "tags": []
   },
   "outputs": [],
   "source": [
    "pixstats = allpix.reduceRegion(\n",
    "    reducer = ee.Reducer.count(),               # count pixels in a single class\n",
    "    geometry = aug_complex.geometry(),\n",
    "    scale = 30, \n",
    "    maxPixels = 10000000);"
   ]
  },
  {
   "cell_type": "code",
   "execution_count": 49,
   "metadata": {
    "tags": []
   },
   "outputs": [],
   "source": [
    "allpixels = ee.Number(pixstats.get('sum')); # extract pixel count as a number"
   ]
  },
  {
   "cell_type": "code",
   "execution_count": 50,
   "metadata": {
    "tags": []
   },
   "outputs": [],
   "source": [
    "#create an empty list to store area values in\n",
    "arealist = [];"
   ]
  },
  {
   "cell_type": "code",
   "execution_count": 51,
   "metadata": {
    "tags": []
   },
   "outputs": [],
   "source": [
    "# create a function to derive extent of one burn severity class\n",
    "#arguments are class number and class name\n",
    "def areacount(cnr, name):\n",
    "    singleMask =  classified.updateMask(classified.eq(cnr)); # mask a single class // count pixels in a single class\n",
    "    stats = singleMask.reduceRegion(reducer = ee.Reducer.count(), geometry = aug_complex.geometry(), scale = 30, \n",
    "    maxPixels = 10000000);\n",
    "    pix =  ee.Number(stats.get('sum'));\n",
    "    hect = pix.multiply(900).divide(10000);               #Landsat pixel = 30m x 30m --> 900 sqm\n",
    "    perc = pix.divide(allpixels).multiply(10000).round().divide(100);   # get area percent by class and round to 2 decimals\n",
    "    arealist.append({'Class': name, 'Pixels': pix, 'Hectares': hect, 'Percentage': perc});\n",
    "\n",
    "# severity classes in different order\n",
    "names2 = ['NA', 'High Severity', 'Moderate-high Severity',\n",
    "'Moderate-low Severity', 'Low Severity','Unburned', 'Enhanced Regrowth, Low', 'Enhanced Regrowth, High'];"
   ]
  },
  {
   "cell_type": "code",
   "execution_count": 52,
   "metadata": {},
   "outputs": [],
   "source": [
    "i = 0\n",
    "for i in range(len(names2)):\n",
    "    if i < 8:\n",
    "        areacount(i, names2[i])\n",
    "        i + 1;"
   ]
  },
  {
   "cell_type": "code",
   "execution_count": 53,
   "metadata": {},
   "outputs": [
    {
     "data": {
      "text/plain": [
       "[{'Class': 'NA',\n",
       "  'Pixels': <ee.ee_number.Number at 0x13e9dc550>,\n",
       "  'Hectares': <ee.ee_number.Number at 0x13e9dc760>,\n",
       "  'Percentage': <ee.ee_number.Number at 0x13e9dc0d0>},\n",
       " {'Class': 'High Severity',\n",
       "  'Pixels': <ee.ee_number.Number at 0x13e9dc220>,\n",
       "  'Hectares': <ee.ee_number.Number at 0x13e9dce50>,\n",
       "  'Percentage': <ee.ee_number.Number at 0x13e9c9160>},\n",
       " {'Class': 'Moderate-high Severity',\n",
       "  'Pixels': <ee.ee_number.Number at 0x13e9c9e80>,\n",
       "  'Hectares': <ee.ee_number.Number at 0x13e9c9400>,\n",
       "  'Percentage': <ee.ee_number.Number at 0x13e9c9d30>},\n",
       " {'Class': 'Moderate-low Severity',\n",
       "  'Pixels': <ee.ee_number.Number at 0x13e901520>,\n",
       "  'Hectares': <ee.ee_number.Number at 0x13e9b0370>,\n",
       "  'Percentage': <ee.ee_number.Number at 0x13e92c250>},\n",
       " {'Class': 'Low Severity',\n",
       "  'Pixels': <ee.ee_number.Number at 0x13e9f23a0>,\n",
       "  'Hectares': <ee.ee_number.Number at 0x13e9f2520>,\n",
       "  'Percentage': <ee.ee_number.Number at 0x13e9f2760>},\n",
       " {'Class': 'Unburned',\n",
       "  'Pixels': <ee.ee_number.Number at 0x13e9f2b20>,\n",
       "  'Hectares': <ee.ee_number.Number at 0x13e9f2ca0>,\n",
       "  'Percentage': <ee.ee_number.Number at 0x13e9f2ee0>},\n",
       " {'Class': 'Enhanced Regrowth, Low',\n",
       "  'Pixels': <ee.ee_number.Number at 0x13e9f52e0>,\n",
       "  'Hectares': <ee.ee_number.Number at 0x13e9f5460>,\n",
       "  'Percentage': <ee.ee_number.Number at 0x13e9f56a0>},\n",
       " {'Class': 'Enhanced Regrowth, High',\n",
       "  'Pixels': <ee.ee_number.Number at 0x13e9f5a60>,\n",
       "  'Hectares': <ee.ee_number.Number at 0x13e9f5be0>,\n",
       "  'Percentage': <ee.ee_number.Number at 0x13e9f5e20>}]"
      ]
     },
     "execution_count": 53,
     "metadata": {},
     "output_type": "execute_result"
    }
   ],
   "source": [
    "arealist"
   ]
  },
  {
   "cell_type": "code",
   "execution_count": 54,
   "metadata": {},
   "outputs": [
    {
     "name": "stdout",
     "output_type": "stream",
     "text": [
      "                     Class                                             Pixels  \\\n",
      "0                       NA  ee.Number({\\n  \"functionInvocationValue\": {\\n ...   \n",
      "1            High Severity  ee.Number({\\n  \"functionInvocationValue\": {\\n ...   \n",
      "2   Moderate-high Severity  ee.Number({\\n  \"functionInvocationValue\": {\\n ...   \n",
      "3    Moderate-low Severity  ee.Number({\\n  \"functionInvocationValue\": {\\n ...   \n",
      "4             Low Severity  ee.Number({\\n  \"functionInvocationValue\": {\\n ...   \n",
      "5                 Unburned  ee.Number({\\n  \"functionInvocationValue\": {\\n ...   \n",
      "6   Enhanced Regrowth, Low  ee.Number({\\n  \"functionInvocationValue\": {\\n ...   \n",
      "7  Enhanced Regrowth, High  ee.Number({\\n  \"functionInvocationValue\": {\\n ...   \n",
      "\n",
      "                                            Hectares  \\\n",
      "0  ee.Number({\\n  \"functionInvocationValue\": {\\n ...   \n",
      "1  ee.Number({\\n  \"functionInvocationValue\": {\\n ...   \n",
      "2  ee.Number({\\n  \"functionInvocationValue\": {\\n ...   \n",
      "3  ee.Number({\\n  \"functionInvocationValue\": {\\n ...   \n",
      "4  ee.Number({\\n  \"functionInvocationValue\": {\\n ...   \n",
      "5  ee.Number({\\n  \"functionInvocationValue\": {\\n ...   \n",
      "6  ee.Number({\\n  \"functionInvocationValue\": {\\n ...   \n",
      "7  ee.Number({\\n  \"functionInvocationValue\": {\\n ...   \n",
      "\n",
      "                                          Percentage  \n",
      "0  ee.Number({\\n  \"functionInvocationValue\": {\\n ...  \n",
      "1  ee.Number({\\n  \"functionInvocationValue\": {\\n ...  \n",
      "2  ee.Number({\\n  \"functionInvocationValue\": {\\n ...  \n",
      "3  ee.Number({\\n  \"functionInvocationValue\": {\\n ...  \n",
      "4  ee.Number({\\n  \"functionInvocationValue\": {\\n ...  \n",
      "5  ee.Number({\\n  \"functionInvocationValue\": {\\n ...  \n",
      "6  ee.Number({\\n  \"functionInvocationValue\": {\\n ...  \n",
      "7  ee.Number({\\n  \"functionInvocationValue\": {\\n ...  \n"
     ]
    }
   ],
   "source": [
    "test = pd.DataFrame(arealist)\n",
    "print(test)"
   ]
  },
  {
   "cell_type": "code",
   "execution_count": 55,
   "metadata": {},
   "outputs": [],
   "source": [
    "# Theres probably an easier way to extract the values but this works\n",
    "# pop each class into its own variable, then create a dictionary that uses .getInfo() on each value to convert from ee.Number to number\n",
    "\n",
    "#NA = arealist[0:1].pop()\n",
    "#High_Severity = arealist[0:2].pop()\n",
    "#Moderate_high_Severity = arealist[0:3].pop()\n",
    "#Moderate_low_Severity = arealist[0:4].pop()\n",
    "#Low_Severity = arealist[0:5].pop()\n",
    "#Unburned = arealist[0:6].pop()\n",
    "#Enhanced_Regrowth_Low = arealist[0:7].pop()\n",
    "#Enhanced_Regrowth_High = arealist[0:8].pop()"
   ]
  },
  {
   "cell_type": "code",
   "execution_count": 56,
   "metadata": {},
   "outputs": [],
   "source": [
    "# Takes quite  a while to run, so for the presentation I copied the results \n",
    "\n",
    "#stats = {'Class': ['NA', 'High Severity', 'Moderate-high Severity', 'Moderate-low Severity', 'Low Severity', 'Unburned', 'Enhanced Regrowth, Low', 'Enhanced Regrowth, High'], \n",
    "#  'Pixels': [NA['Pixels'].getInfo(), High_Severity['Pixels'].getInfo(), Moderate_high_Severity['Pixels'].getInfo(), Moderate_low_Severity['Pixels'].getInfo(), Low_Severity['Pixels'].getInfo(), Unburned['Pixels'].getInfo(), Enhanced_Regrowth_Low['Pixels'].getInfo(), Enhanced_Regrowth_High['Pixels'].getInfo() ],\n",
    "#  'Hectares': [NA['Hectares'].getInfo(), High_Severity['Hectares'].getInfo(), Moderate_high_Severity['Hectares'].getInfo(), Moderate_low_Severity['Hectares'].getInfo(), Low_Severity['Hectares'].getInfo(), Unburned['Hectares'].getInfo(), Enhanced_Regrowth_Low['Hectares'].getInfo(), Enhanced_Regrowth_High['Hectares'].getInfo()],\n",
    "#  'Percentage': [NA['Percentage'].getInfo(), High_Severity['Percentage'].getInfo(), Moderate_high_Severity['Percentage'].getInfo(), Moderate_low_Severity['Percentage'].getInfo(),Low_Severity['Percentage'].getInfo(), Unburned['Percentage'].getInfo(), Enhanced_Regrowth_Low['Percentage'].getInfo(),Enhanced_Regrowth_High['Percentage'].getInfo()]}"
   ]
  },
  {
   "cell_type": "code",
   "execution_count": 57,
   "metadata": {},
   "outputs": [
    {
     "data": {
      "text/html": [
       "<div>\n",
       "<style scoped>\n",
       "    .dataframe tbody tr th:only-of-type {\n",
       "        vertical-align: middle;\n",
       "    }\n",
       "\n",
       "    .dataframe tbody tr th {\n",
       "        vertical-align: top;\n",
       "    }\n",
       "\n",
       "    .dataframe thead th {\n",
       "        text-align: right;\n",
       "    }\n",
       "</style>\n",
       "<table border=\"1\" class=\"dataframe\">\n",
       "  <thead>\n",
       "    <tr style=\"text-align: right;\">\n",
       "      <th></th>\n",
       "      <th>Pixels</th>\n",
       "      <th>Hectares</th>\n",
       "      <th>Percentage</th>\n",
       "    </tr>\n",
       "    <tr>\n",
       "      <th>Class</th>\n",
       "      <th></th>\n",
       "      <th></th>\n",
       "      <th></th>\n",
       "    </tr>\n",
       "  </thead>\n",
       "  <tbody>\n",
       "    <tr>\n",
       "      <th>NA</th>\n",
       "      <td>0</td>\n",
       "      <td>0.00</td>\n",
       "      <td>0.00</td>\n",
       "    </tr>\n",
       "    <tr>\n",
       "      <th>High Severity</th>\n",
       "      <td>1067623</td>\n",
       "      <td>96086.07</td>\n",
       "      <td>17.01</td>\n",
       "    </tr>\n",
       "    <tr>\n",
       "      <th>Moderate-high Severity</th>\n",
       "      <td>989630</td>\n",
       "      <td>89066.70</td>\n",
       "      <td>15.77</td>\n",
       "    </tr>\n",
       "    <tr>\n",
       "      <th>Moderate-low Severity</th>\n",
       "      <td>968749</td>\n",
       "      <td>87187.41</td>\n",
       "      <td>15.44</td>\n",
       "    </tr>\n",
       "    <tr>\n",
       "      <th>Low Severity</th>\n",
       "      <td>1061877</td>\n",
       "      <td>95568.93</td>\n",
       "      <td>16.92</td>\n",
       "    </tr>\n",
       "    <tr>\n",
       "      <th>Unburned</th>\n",
       "      <td>1522197</td>\n",
       "      <td>136997.73</td>\n",
       "      <td>24.26</td>\n",
       "    </tr>\n",
       "    <tr>\n",
       "      <th>Enhanced Regrowth, Low</th>\n",
       "      <td>427507</td>\n",
       "      <td>38475.63</td>\n",
       "      <td>6.81</td>\n",
       "    </tr>\n",
       "    <tr>\n",
       "      <th>Enhanced Regrowth, High</th>\n",
       "      <td>237862</td>\n",
       "      <td>21407.58</td>\n",
       "      <td>3.79</td>\n",
       "    </tr>\n",
       "  </tbody>\n",
       "</table>\n",
       "</div>"
      ],
      "text/plain": [
       "                          Pixels   Hectares  Percentage\n",
       "Class                                                  \n",
       "NA                             0       0.00        0.00\n",
       "High Severity            1067623   96086.07       17.01\n",
       "Moderate-high Severity    989630   89066.70       15.77\n",
       "Moderate-low Severity     968749   87187.41       15.44\n",
       "Low Severity             1061877   95568.93       16.92\n",
       "Unburned                 1522197  136997.73       24.26\n",
       "Enhanced Regrowth, Low    427507   38475.63        6.81\n",
       "Enhanced Regrowth, High   237862   21407.58        3.79"
      ]
     },
     "execution_count": 57,
     "metadata": {},
     "output_type": "execute_result"
    }
   ],
   "source": [
    "stats = {'Class': ['NA',\n",
    "  'High Severity',\n",
    "  'Moderate-high Severity',\n",
    "  'Moderate-low Severity',\n",
    "  'Low Severity',\n",
    "  'Unburned',\n",
    "  'Enhanced Regrowth, Low',\n",
    "  'Enhanced Regrowth, High'],\n",
    " 'Pixels': [0, 1067623, 989630, 968749, 1061877, 1522197, 427507, 237862],\n",
    " 'Hectares': [0,\n",
    "  96086.07,\n",
    "  89066.7,\n",
    "  87187.41,\n",
    "  95568.93,\n",
    "  136997.73,\n",
    "  38475.63,\n",
    "  21407.58],\n",
    " 'Percentage': [0, 17.01, 15.77, 15.44, 16.92, 24.26, 6.81, 3.79]}\n",
    "df_stats = pd.DataFrame(stats).set_index('Class')\n",
    "df_stats"
   ]
  },
  {
   "cell_type": "markdown",
   "metadata": {},
   "source": [
    "<a id='Use_Case_Discussion'></a>\n",
    "### Use Case Discussion\n",
    "\n",
    "We found that nearly half of the burned area was determined to be between Moderate-Low to High severity. Additionally, the High severity area was the second largest percentage of area classified."
   ]
  },
  {
   "cell_type": "code",
   "execution_count": 58,
   "metadata": {},
   "outputs": [
    {
     "data": {
      "text/plain": [
       "Text(0.5, 1.0, 'Burn Severity Analysis of 2020 August Complex Fire')"
      ]
     },
     "execution_count": 58,
     "metadata": {},
     "output_type": "execute_result"
    },
    {
     "data": {
      "image/png": "[encoded data removed]",
      "text/plain": [
       "<Figure size 640x480 with 1 Axes>"
      ]
     },
     "metadata": {},
     "output_type": "display_data"
    }
   ],
   "source": [
    "df_stats['Hectares'].sort_values().plot.bar(color = ['gold', 'olive', 'darkkhaki'  , 'orange', 'orangered', 'yellow','purple', 'springgreen' ], width = 0.75)\n",
    "plt.ylabel('Hectares')\n",
    "plt.title('Burn Severity Analysis of 2020 August Complex Fire')"
   ]
  },
  {
   "cell_type": "code",
   "execution_count": 59,
   "metadata": {},
   "outputs": [
    {
     "data": {
      "text/plain": [
       "Text(0.5, 1.0, 'Burn Severity Analysis of 2020 August Complex Fire')"
      ]
     },
     "execution_count": 59,
     "metadata": {},
     "output_type": "execute_result"
    },
    {
     "data": {
      "image/png": "[encoded data removed]",
      "text/plain": [
       "<Figure size 640x480 with 1 Axes>"
      ]
     },
     "metadata": {},
     "output_type": "display_data"
    }
   ],
   "source": [
    "# Pie Chart of Percentage by Class\n",
    "df_stats.plot(kind = 'pie', y = 'Percentage',\n",
    "              colors = ['floralwhite', 'purple', 'orangered'  , 'orange', 'yellow', 'springgreen','darkkhaki', 'olive' ],\n",
    "             legend= False)\n",
    "plt.title('Burn Severity Analysis of 2020 August Complex Fire')"
   ]
  },
  {
   "cell_type": "markdown",
   "metadata": {},
   "source": [
    "<a id='Future_Analyses'></a>\n",
    "### Future Analyses\n",
    "\n",
    "With more time, the data extracted could be analyzed with other characteristics of the environment, such as slope, aspect, wind direction, and humidity. These analyses would better inform wildfire researchers the nature of fires, how they spread, and what characteristics increase severity.\n",
    "\n",
    "Additionally, this burn severity map can be compared to other wildfire burn severity maps as a function of time to see if the severity of the burns is getting worse. This would help inform wildfire researchers determine how quickly fires are increasingly negatively affecting the environment. Burn severity can also be compared temporally so that wildfire prevention can be implemented to the parts of the state most at risk. \n",
    "\n",
    "<a id='references'></a> \n",
    "### References\n",
    "\n",
    "- Sentinel data GEE page: https://developers.google.com/earth-engine/datasets/catalog/COPERNICUS_S2 \n",
    "- USFS MTBS Shapefile GEE page: https://developers.google.com/earth-engine/datasets/catalog/USFS_GTAC_MTBS_burned_area_boundaries_v1#description \n",
    "- MTBS Project Page: https://www.mtbs.gov/ \n",
    "- Step by Step: Burn Severity mapping in Google Earth Engine https://code.earthengine.google.com/b455ba8cf4b5bee822bb7ff8935e6209\n"
   ]
  }
 ],
 "metadata": {
  "kernelspec": {
   "display_name": "gee_env",
   "language": "python",
   "name": "gee_env"
  },
  "language_info": {
   "codemirror_mode": {
    "name": "ipython",
    "version": 3
   },
   "file_extension": ".py",
   "mimetype": "text/x-python",
   "name": "python",
   "nbconvert_exporter": "python",
   "pygments_lexer": "ipython3",
   "version": "3.9.13"
  }
 },
 "nbformat": 4,
 "nbformat_minor": 4
}
